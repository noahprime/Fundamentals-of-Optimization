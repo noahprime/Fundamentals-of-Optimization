{
 "cells": [
  {
   "cell_type": "code",
   "execution_count": 34,
   "metadata": {},
   "outputs": [],
   "source": [
    "import numpy as np\n",
    "from matplotlib import pyplot as plt"
   ]
  },
  {
   "cell_type": "markdown",
   "metadata": {},
   "source": [
    "## Gradescope "
   ]
  },
  {
   "cell_type": "markdown",
   "metadata": {},
   "source": [
    "Gradescope Autograder will launch your Jupyter Notebook executing all coding cells top to bottom, and then it will compare values of certain variables marked as ##==GRADED==## to what's in our solution file. \n",
    "\n",
    "So, before submitting: \n",
    "\n",
    "1. Make sure your code executes correctly top-to-bottom. You can check it by doing \"Kernel -> Restart\" and then \"Cell -> Run All\".\n",
    "2. Make sure you kept the original names of ##==GRADED==## variables. Gradescope will look for your variables **by their name**, so if you rename those graded variables then Gradescope will assign you 0 points for these, even if you implemented everything else right.\n"
   ]
  },
  {
   "cell_type": "markdown",
   "metadata": {},
   "source": [
    "If you see a block of code like this:"
   ]
  },
  {
   "cell_type": "code",
   "execution_count": 35,
   "metadata": {},
   "outputs": [],
   "source": [
    "##==GRADED==##\n",
    "A1 = ..."
   ]
  },
  {
   "cell_type": "markdown",
   "metadata": {},
   "source": [
    "It means that the variable `A1` will be graded, so you need to assign the requested value to this variable and to keep its as it is (`A1`). The mark ##==GRADED==## does not signal anything to Gradescope, it is only there to attract your attention. "
   ]
  },
  {
   "cell_type": "markdown",
   "metadata": {},
   "source": [
    "## Bisection Method"
   ]
  },
  {
   "cell_type": "markdown",
   "metadata": {},
   "source": [
    "Most coding homeworks for 515 will include tasks of implementing an algorithm according to its pseudocode which will be provided during lectures or in books. As an exercise, in this homework we'll implement a simple root-finding method called Bisection method."
   ]
  },
  {
   "cell_type": "markdown",
   "metadata": {},
   "source": [
    "Suppose we want to find a root of a function $f(x)$:"
   ]
  },
  {
   "cell_type": "code",
   "execution_count": 36,
   "metadata": {},
   "outputs": [],
   "source": [
    "f = lambda x: x**2 - 2*x - 3   # We define our polynomial using using Python's lambda-functions. \n",
    "\n",
    "# Read this if you're unfamiliar with lambda-functions:\n",
    "\n",
    "# https://realpython.com/python-lambda/"
   ]
  },
  {
   "cell_type": "markdown",
   "metadata": {},
   "source": [
    "which looks like this:"
   ]
  },
  {
   "cell_type": "code",
   "execution_count": 37,
   "metadata": {},
   "outputs": [
    {
     "data": {
      "text/plain": [
       "Text(0, 0.5, '$f(x)$')"
      ]
     },
     "execution_count": 37,
     "metadata": {},
     "output_type": "execute_result"
    },
    {
     "data": {
      "image/png": "[encoded data removed]",
      "text/plain": [
       "<Figure size 432x288 with 1 Axes>"
      ]
     },
     "metadata": {
      "needs_background": "light"
     },
     "output_type": "display_data"
    }
   ],
   "source": [
    "xspan = np.linspace(-3, 5, 100)  # Create a 100 uniformly spaced points between -3 and 5.\n",
    "plt.plot(xspan, f(xspan))        # Plot the function as plot(x, y)\n",
    "plt.xlabel(\"x\")                  # Label axes\n",
    "plt.ylabel(r\"$f(x)$\")            # That's how you render LaTeX in plots titles and labels: r\"$<formula goes here>$\"\n",
    "\n",
    "# Here is a good tutorial if you never used matplotlib before:\n",
    "\n",
    "# https://matplotlib.org/tutorials/introductory/pyplot.html"
   ]
  },
  {
   "cell_type": "markdown",
   "metadata": {},
   "source": [
    "Now let's create a function `bisection`, which takes a function `f` and the bounds `a` and `b`, and returns a root of `f` between `a` and `b`. This time we'll take pseudocode from Wikipedia (https://en.wikipedia.org/wiki/Bisection_method)."
   ]
  },
  {
   "cell_type": "code",
   "execution_count": 38,
   "metadata": {},
   "outputs": [],
   "source": [
    "# TODO: Finish implementing this function accorting to Wikipedia pseudocode\n",
    "\n",
    "def bisection(f,                # Function the root of which we're trying to find\n",
    "              a,                # Left boundary for the root\n",
    "              b,                # Right boundary for the root\n",
    "              tol = 1e-4,       # Tolerance \n",
    "              nmax = 1000):     # Maximal number of iterations \n",
    "    n = 1\n",
    "    while n <= nmax:\n",
    "        c = (a+b)/2             # Choose a middle point\n",
    "        if abs(f(c)) <= tol :        # If stopping condition is satisfied\n",
    "            return c            # Return the root\n",
    "        n = n + 1\n",
    "        if np.sign(f(a)) == np.sign(f(c)) :                # Choose how to update the search inverval\n",
    "            a = c\n",
    "        else:\n",
    "            b = c\n",
    "    print(\"Method failed\")      # Happens only if the method reached nmax iterations without finding a root"
   ]
  },
  {
   "cell_type": "markdown",
   "metadata": {},
   "source": [
    "From the plot it seems like there are two roots: one is between -2 and 1, and another one is between 1 and 5. Save these two roots into the variables `x0` and `x1` respectively (done for you as an example):"
   ]
  },
  {
   "cell_type": "code",
   "execution_count": 39,
   "metadata": {},
   "outputs": [],
   "source": [
    "##===GRADED===##\n",
    "x0 = bisection(f, -2, 1)\n",
    "\n",
    "##===GRADED===##\n",
    "x1 = bisection(f, 1, 5)"
   ]
  },
  {
   "cell_type": "markdown",
   "metadata": {},
   "source": [
    "It's important to check that your values are correct. For instance, we can check that `x0` and `x1` are the if `f(x0)` and `f(x1)` are pretty close to 0. "
   ]
  },
  {
   "cell_type": "code",
   "execution_count": 40,
   "metadata": {},
   "outputs": [
    {
     "name": "stdout",
     "output_type": "stream",
     "text": [
      "f(x0) = 0.00006. Should be close to 0\n",
      "f(x1) = 0.00000. Should be close to 0\n"
     ]
    }
   ],
   "source": [
    "print(f\"f(x0) = {f(x0):.5f}. Should be close to 0\")\n",
    "print(f\"f(x1) = {f(x1):.5f}. Should be close to 0\")\n",
    "\n",
    "# P.S. if you're unfamiliar Python strings formatting in general or\n",
    "# with f-strings in particular, here is an instruction:\n",
    "\n",
    "# http://zetcode.com/python/fstring/"
   ]
  },
  {
   "cell_type": "markdown",
   "metadata": {},
   "source": [
    "Since we're using numerical methods, we will almost never get our answers precisely. However, coding numerical methods is a bit like taming black magic: when they are implemented right they give very accurate values, but when there is a typo (even a small one) they tend to explode with very large quantities. Hence the goal of making these checks is to ensure that the values are at least sensical. For instance, if you know that the target value is supposed to be a small positive value, but you got -2123124156.3847594 -- it indicates a mistake in the algorithm and so more debugging is needed."
   ]
  },
  {
   "cell_type": "markdown",
   "metadata": {},
   "source": [
    "## NumPy"
   ]
  },
  {
   "cell_type": "markdown",
   "metadata": {},
   "source": [
    "NumPy is a Python library and a very popular choice when one needs to work with linear algebra objects like matrices and vectors. We will be using numpy throughout the class."
   ]
  },
  {
   "cell_type": "code",
   "execution_count": 41,
   "metadata": {},
   "outputs": [],
   "source": [
    "import numpy as np"
   ]
  },
  {
   "cell_type": "markdown",
   "metadata": {},
   "source": [
    "If you have never used NumPy then I would highly recommend you going through this tutorial first:\n",
    "\n",
    "https://numpy.org/doc/stable/user/quickstart.html"
   ]
  },
  {
   "cell_type": "markdown",
   "metadata": {},
   "source": [
    "I also wanted to use this homework to remind you about the importance of dimensions in NumPy. For instance, suppose I have two matrices:"
   ]
  },
  {
   "cell_type": "code",
   "execution_count": 42,
   "metadata": {},
   "outputs": [],
   "source": [
    "A = np.array([\n",
    "    [1, 2],\n",
    "    [3, 4], \n",
    "    [5, 6]\n",
    "])\n",
    "\n",
    "B = 2*np.eye(3)"
   ]
  },
  {
   "cell_type": "markdown",
   "metadata": {},
   "source": [
    "If we try to multiply them as-is we will get an error:"
   ]
  },
  {
   "cell_type": "markdown",
   "metadata": {},
   "source": [
    "This error tells us that matrix dimensions don't match: the number of columns of A is 2, but the number of rows of B is 3, so the matrices can't be multiplied. "
   ]
  },
  {
   "cell_type": "markdown",
   "metadata": {},
   "source": [
    "It gets less obvious when it comes to vectors, mainly because NumPy vectors are one-dimensional objects of shape (N,) which is different from column vectors -- 2-d matrices of shape (N, 1) -- or row-vectors -- 2-d matrices of shape (1, N). This difference may seem natural to people with background in C or Java (1d vs 2d arrays), but might seem counter-intuitive for people with MATLAB background, where all vectors and matrices are 2d by default. "
   ]
  },
  {
   "cell_type": "markdown",
   "metadata": {},
   "source": [
    "Here, `u` is a row-vector, so when I try doing an outer product everything goes as a mathematician would expect:"
   ]
  },
  {
   "cell_type": "code",
   "execution_count": null,
   "metadata": {},
   "outputs": [],
   "source": [
    "u = np.array([[1, 2, 3]])\n",
    "print(f\"Shape of u is: {u.shape}\")\n",
    "u.T.dot(u)"
   ]
  },
  {
   "cell_type": "markdown",
   "metadata": {},
   "source": [
    "However, `v` is a 1d-array, and so the behavior of .dot() is different: instead of an outer product we get an inner product."
   ]
  },
  {
   "cell_type": "code",
   "execution_count": null,
   "metadata": {},
   "outputs": [],
   "source": [
    "v = np.array([1, 2, 3])\n",
    "print(f\"Shape of v is: {v.shape}\")\n",
    "v.T.dot(v)"
   ]
  },
  {
   "cell_type": "markdown",
   "metadata": {},
   "source": [
    "I would recommend sticking to 2d matrices (to column vectors and row vectors instead of arrays) whenever you do linear algebra operations."
   ]
  },
  {
   "cell_type": "markdown",
   "metadata": {},
   "source": [
    "Please make sure you familiarized yourself with numpy enough to see what I am doing differently in four very similar code snippets below to get four different outcomes. This understanding might save you hours of debugging in future. "
   ]
  },
  {
   "cell_type": "code",
   "execution_count": null,
   "metadata": {},
   "outputs": [],
   "source": [
    "u = np.array([1, 2, 3])\n",
    "v = np.array([4, 5, 6])\n",
    "u.dot(v)"
   ]
  },
  {
   "cell_type": "code",
   "execution_count": null,
   "metadata": {},
   "outputs": [],
   "source": [
    "u = np.array([[1, 2, 3]])\n",
    "v = np.array([[4, 5, 6]])\n",
    "u*v"
   ]
  },
  {
   "cell_type": "code",
   "execution_count": null,
   "metadata": {},
   "outputs": [],
   "source": [
    "u = np.array([[1, 2, 3]]).T\n",
    "v = np.array([[4, 5, 6]])\n",
    "u.dot(v)"
   ]
  },
  {
   "cell_type": "markdown",
   "metadata": {},
   "source": [
    "As a basic NumPy proficiency test on translating math expression to NumPy syntax, calculate the following expression: \n",
    "\n",
    "$C = \\log\\det(B^Tvv^TB + B^TB*B^TB)$\n",
    "\n",
    "Where $B = (1, 2; 3, 4; 5, 6)$, $v$ is a vector of ones, and $*$ is an element-wise product. Use NumPy functions for the logarithm (`np.log`) and determinant (`np.linalg.det`) "
   ]
  },
  {
   "cell_type": "code",
   "execution_count": null,
   "metadata": {},
   "outputs": [],
   "source": [
    "v = np.array([[1,1,1]]).T\n",
    "\n",
    "B = np.array([[1,2],[3,4],[5,6]])\n",
    "\n",
    "innerds = B.T.dot(v).dot(v.T).dot(B)+B.T.dot(B)*B.T.dot(B)\n",
    "\n",
    "##===GRADED===##\n",
    "C = np.log(np.linalg.det(innerds))"
   ]
  },
  {
   "cell_type": "markdown",
   "metadata": {},
   "source": [
    "## Submitting your work to Gradescope"
   ]
  },
  {
   "cell_type": "markdown",
   "metadata": {},
   "source": [
    "You need to submit this Jupyter Notebook to Gradescope. There is no limit for the number of attempts this time. \n",
    "\n",
    "\n",
    "Gradescope will give you 0 points if your any of your code cells fail, so **please don't forget to delete all my code cells which produce errors**. Those were for illustration purposes."
   ]
  }
 ],
 "metadata": {
  "kernelspec": {
   "display_name": "Python 3",
   "language": "python",
   "name": "python3"
  },
  "language_info": {
   "codemirror_mode": {
    "name": "ipython",
    "version": 3
   },
   "file_extension": ".py",
   "mimetype": "text/x-python",
   "name": "python",
   "nbconvert_exporter": "python",
   "pygments_lexer": "ipython3",
   "version": "3.8.0"
  }
 },
 "nbformat": 4,
 "nbformat_minor": 4
}
