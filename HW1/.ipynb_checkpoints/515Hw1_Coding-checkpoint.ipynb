{
 "cells": [
  {
   "cell_type": "markdown",
   "metadata": {},
   "source": [
    "# AMATH 515 Homework 1\n",
    "\n",
    "**Due Date: 01/27/2021**\n",
    "\n",
    "*Homework Instruction*: Please fill in the gaps in this template where commented as `TODO`. When submitting, make sure your file is still named `515Hw1_Coding.ipynb` -- that's what Gradescope will be looking for. There is no need to submit `hw1_supp.py`, it will already be on the server when you submit your work. You'll have **10 attempts** to pass the tests. "
   ]
  },
  {
   "cell_type": "code",
   "execution_count": 1,
   "metadata": {},
   "outputs": [],
   "source": [
    "# require numpy module\n",
    "import numpy as np\n",
    "from numpy.linalg import norm\n",
    "from numpy.linalg import solve\n",
    "import matplotlib.pyplot as plt"
   ]
  },
  {
   "cell_type": "code",
   "execution_count": 2,
   "metadata": {},
   "outputs": [],
   "source": [
    "# import supplementary functions for Homework 1\n",
    "import sys\n",
    "sys.path.insert(0, './')\n",
    "from hw1_supp import *"
   ]
  },
  {
   "cell_type": "code",
   "execution_count": 3,
   "metadata": {},
   "outputs": [],
   "source": [
    "# You can change this seed if you want to test that your program works with different random data,\n",
    "# but please set it back to 123 when you submit your work.\n",
    "seed = 123"
   ]
  },
  {
   "cell_type": "markdown",
   "metadata": {},
   "source": [
    "## Gradient Descent Solver\n",
    "\n",
    "Recall the gradient descent algorithm we learned in class and complete the gradient descent solver."
   ]
  },
  {
   "cell_type": "code",
   "execution_count": 4,
   "metadata": {},
   "outputs": [],
   "source": [
    "def optimizeWithGD(x0, func, grad, step_size, tol=1e-6, max_iter=1000, use_line_search=False):\n",
    "    \"\"\"\n",
    "    Optimize with Gradient Descent\n",
    "    \n",
    "    input\n",
    "    -----\n",
    "    x0 : array_like\n",
    "        Starting point for the solver.\n",
    "    func : function\n",
    "        Takes x and return the function value.\n",
    "    grad : function\n",
    "        Takes x and returns the gradient of \"func\".\n",
    "    step_size : float or None\n",
    "        If it is a float number and `use_line_search=False`, it will be used as the step size.\n",
    "        Otherwise, line search will be used\n",
    "    tol : float, optional\n",
    "        Gradient tolerance for terminating the solver.\n",
    "    max_iter : int, optional\n",
    "        Maximum number of iterations for terminating the solver.\n",
    "    use_line_search : bool, optional\n",
    "        When it is true a line search will be used, other wise `step_size` has to be provided.\n",
    "        \n",
    "    output\n",
    "    ------\n",
    "    x : array_like\n",
    "        Final solution\n",
    "    obj_his : array_like\n",
    "        Objective function's values convergence history\n",
    "    err_his : array_like\n",
    "        Norm of gradient convergence history\n",
    "    exit_flag : int\n",
    "        0, norm of gradient below `tol`\n",
    "        1, exceed maximum number of iteration\n",
    "        2, line search fail\n",
    "        3, other\n",
    "    \"\"\"\n",
    "    # safeguard\n",
    "    if not use_line_search and step_size is None:\n",
    "        print('Please specify the step_size or use the line search.')\n",
    "        return x0, np.array([]), np.array([]), 3\n",
    "    \n",
    "    # initial step\n",
    "    x = np.copy(x0)\n",
    "    g = grad(x)\n",
    "    #\n",
    "    obj = func(x)\n",
    "    err = norm(g)\n",
    "    #\n",
    "    obj_his = np.zeros(max_iter + 1)\n",
    "    err_his = np.zeros(max_iter + 1)\n",
    "    #\n",
    "    obj_his[0] = obj\n",
    "    err_his[0] = err\n",
    "    \n",
    "    # start iterations\n",
    "    iter_count = 0\n",
    "    while err >= tol:\n",
    "        if use_line_search:\n",
    "            step_size = lineSearch(x, g, g, func)\n",
    "        #\n",
    "        # if line search fail step_size will be None\n",
    "        if step_size is None:\n",
    "            print('Gradient descent line search fail.')\n",
    "            return x, obj_his[:iter_count+1], err_his[:iter_count+1], 2\n",
    "        #\n",
    "        # gradient descent step\n",
    "        #####\n",
    "        # TODO: with given step_size, complete gradient descent step\n",
    "        # x = ? \n",
    "        x = x - step_size*g\n",
    "        #####\n",
    "        #\n",
    "        # update function and gradient\n",
    "        g = grad(x)\n",
    "        #\n",
    "        obj = func(x)\n",
    "        err = norm(g)\n",
    "        #\n",
    "        iter_count += 1\n",
    "        obj_his[iter_count] = obj\n",
    "        err_his[iter_count] = err\n",
    "        #\n",
    "        # check if exceed maximum number of iteration\n",
    "        if iter_count >= max_iter:\n",
    "            print('Gradient descent reach maximum number of iteration.')\n",
    "            return x, obj_his[:iter_count+1], err_his[:iter_count+1], 1\n",
    "    #\n",
    "    return x, obj_his[:iter_count+1], err_his[:iter_count+1], 0"
   ]
  },
  {
   "cell_type": "markdown",
   "metadata": {},
   "source": [
    "## Newton's Solver\n",
    "\n",
    "Recall Newton method we learned from in class and complete Newton solver."
   ]
  },
  {
   "cell_type": "code",
   "execution_count": 41,
   "metadata": {},
   "outputs": [],
   "source": [
    "def optimizeWithNT(x0, func, grad, hess, tol=1e-6, max_iter=100):\n",
    "    \"\"\"\n",
    "    Optimize with Newton's Method\n",
    "    \n",
    "    input\n",
    "    -----\n",
    "    x0 : array_like\n",
    "        Starting point for the solver.\n",
    "    func : function\n",
    "        Takes x and return the function value.\n",
    "    grad : function\n",
    "        Takes x and return the gradient.\n",
    "    hess : function\n",
    "        Input x and return the Hessian matrix.\n",
    "    tol : float, optional\n",
    "        Gradient tolerance for terminating the solver.\n",
    "    max_iter : int, optional\n",
    "        Maximum number of iteration for terminating the solver.\n",
    "        \n",
    "    output\n",
    "    ------\n",
    "    x : array_like\n",
    "        Final solution\n",
    "    obj_his : array_like\n",
    "        Objective function value convergence history\n",
    "    err_his : array_like\n",
    "        Norm of gradient convergence history\n",
    "    exit_flag : int\n",
    "        0, norm of gradient below `tol`\n",
    "        1, exceed maximum number of iteration\n",
    "        2, others\n",
    "    \"\"\"\n",
    "    # initial step\n",
    "    x = np.copy(x0)\n",
    "    g = grad(x)\n",
    "    H = hess(x)\n",
    "    #\n",
    "    obj = func(x)\n",
    "    err = norm(g)\n",
    "    #\n",
    "    obj_his = np.zeros(max_iter + 1)\n",
    "    err_his = np.zeros(max_iter + 1)\n",
    "    #\n",
    "    obj_his[0] = obj\n",
    "    err_his[0] = err\n",
    "    \n",
    "    # start iterations\n",
    "    iter_count = 0\n",
    "    while err >= tol:\n",
    "        # Newton step\n",
    "        #####\n",
    "        # TODO: complete Newton step\n",
    "        # x = ? hint: using solve function\n",
    "        x = x - np.linalg.inv(H).dot(g)\n",
    "        #####\n",
    "        #\n",
    "        # update function, gradient and Hessian\n",
    "        g = grad(x)\n",
    "        H = hess(x)\n",
    "        #\n",
    "        obj = func(x)\n",
    "        err = norm(g)\n",
    "        #\n",
    "        iter_count += 1\n",
    "        obj_his[iter_count] = obj\n",
    "        err_his[iter_count] = err\n",
    "        #\n",
    "        # check if we exceeded maximum number of iterations\n",
    "        if iter_count >= max_iter:\n",
    "            print('Newtons Method reach maximum number of iteration.')\n",
    "            return x, obj_his[:iter_count+1], err_his[:iter_count+1], 1\n",
    "    #\n",
    "    return x, obj_his[:iter_count+1], err_his[:iter_count+1], 0"
   ]
  },
  {
   "cell_type": "markdown",
   "metadata": {},
   "source": [
    "## Simple Test\n",
    "\n",
    "Consider a simple test problem,\n",
    "\n",
    "$$\n",
    "\\min_x~~f(x) \\triangleq \\frac{1}{2} \\|x - b\\|^2\n",
    "$$\n",
    "\n",
    "We can easily calculate the gradient and Hessian of $f$,\n",
    "\n",
    "$$\n",
    "\\nabla f(x) = x - b, \\quad \\nabla^2 f(x) = I\n",
    "$$\n",
    "\n",
    "where $I$ is an identity matrix, and we know that $x^* = b$ is the solution.\n",
    "\n",
    "We will use this function as a simple test to check whether gradient descent and Newton method are implemented right."
   ]
  },
  {
   "cell_type": "code",
   "execution_count": 6,
   "metadata": {},
   "outputs": [],
   "source": [
    "# create b\n",
    "b = np.array([1.0, 2.0, 3.0])\n",
    "# define test function\n",
    "def test_func(x):\n",
    "    return 0.5*sum((x - b)**2)\n",
    "# define test gradient\n",
    "def test_grad(x):\n",
    "    return x - b\n",
    "# define test Hessian\n",
    "def test_hess(x):\n",
    "    return np.eye(b.size)"
   ]
  },
  {
   "cell_type": "code",
   "execution_count": 7,
   "metadata": {},
   "outputs": [
    {
     "name": "stdout",
     "output_type": "stream",
     "text": [
      "Gradient Descent: OK\n"
     ]
    }
   ],
   "source": [
    "# test gradient descent\n",
    "x0_gd = np.zeros(b.size)\n",
    "#\n",
    "x_gd, obj_his_gd, err_his_gd, exit_flag_gd = optimizeWithGD(x0_gd, test_func, test_grad, 1.0)\n",
    "# check if the solution is correct\n",
    "err_gd = norm(x_gd - b)\n",
    "#\n",
    "if err_gd < 1e-6:\n",
    "    print('Gradient Descent: OK')\n",
    "else:\n",
    "    print('Gradient Descent: Err')"
   ]
  },
  {
   "cell_type": "code",
   "execution_count": 8,
   "metadata": {},
   "outputs": [
    {
     "name": "stdout",
     "output_type": "stream",
     "text": [
      "Newton: OK\n"
     ]
    }
   ],
   "source": [
    "# test Newton's method\n",
    "x0_nt = np.zeros(b.size)\n",
    "#\n",
    "x_nt, obj_his_nt, err_his_nt, exit_flag_nt = optimizeWithNT(x0_nt, test_func, test_grad, test_hess)\n",
    "# check if the solution is correct\n",
    "err_nt = norm(x_nt - b)\n",
    "#\n",
    "if err_nt < 1e-6:\n",
    "    print('Newton: OK')\n",
    "else:\n",
    "    print('Newton: Err')"
   ]
  },
  {
   "cell_type": "markdown",
   "metadata": {},
   "source": [
    "## Logistic Regression\n",
    "\n",
    "Recall the logistic regression model\n",
    "$$\n",
    "f(x) = \\sum_{i=1}^m\\left\\{\\log\\left[1+\\exp(\\langle a_i,x\\rangle)\\right]-b_i\\langle a_i,x\\rangle\\right\\} + \\frac{\\lambda}{2}\\|x\\|^2.\n",
    "$$\n",
    "\n",
    "Calculate the gradient and Hessian of this function and define them below using the given data."
   ]
  },
  {
   "cell_type": "code",
   "execution_count": 9,
   "metadata": {},
   "outputs": [
    {
     "name": "stdout",
     "output_type": "stream",
     "text": [
      "[[-0.32568918  0.29920363  0.08489355 ...  0.12387365  0.2936208\n",
      "   0.671443  ]\n",
      " [-0.3882256  -0.31163646  0.52311367 ... -0.40904146  0.11382018\n",
      "  -0.11375293]\n",
      " [ 0.19261641 -0.59336638  0.21367939 ...  0.46336334 -0.07190063\n",
      "   0.04299232]\n",
      " ...\n",
      " [-0.10883999  0.19623304  0.43088165 ... -0.19083817  0.59203286\n",
      "   0.00915767]\n",
      " [-0.29463991  0.02792945  0.05129121 ... -0.42758194  0.06836174\n",
      "   0.05067578]\n",
      " [ 0.41445672 -0.03870536 -0.27314316 ...  0.19779006 -0.08720651\n",
      "   0.2964001 ]]\n"
     ]
    }
   ],
   "source": [
    "# fix a random seed\n",
    "np.random.seed(seed)\n",
    "# set dimensions and create some random data\n",
    "m_lgt = 500\n",
    "n_lgt = 50\n",
    "A_lgt = 0.3*np.random.randn(m_lgt, n_lgt)\n",
    "x_lgt = np.random.randn(n_lgt)\n",
    "b_lgt = sampleLGT(x_lgt, A_lgt)\n",
    "lam_lgt = 0.1\n",
    "print(A_lgt)"
   ]
  },
  {
   "cell_type": "markdown",
   "metadata": {},
   "source": [
    "### Define functions"
   ]
  },
  {
   "cell_type": "code",
   "execution_count": 97,
   "metadata": {},
   "outputs": [],
   "source": [
    "# implement logistic function, gradient and Hessian\n",
    "def lgt_func(x):\n",
    "    #####\n",
    "    # TODO: complete the function\n",
    "    #####\n",
    "    Ax = A_lgt.dot(x)\n",
    "    exp_lgt = np.exp(Ax)\n",
    "    log_lgt = np.log(1+exp_lgt)\n",
    "    norm = (lam_lgt/2)*sum(x**2)\n",
    "    return sum(log_lgt)-b_lgt.dot(Ax)+norm\n",
    "#\n",
    "def lgt_grad(x):\n",
    "    #####\n",
    "    # TODO: complete the gradient\n",
    "    #####\n",
    "    Ax = A_lgt.dot(x)\n",
    "    exp_lgt = np.exp(Ax)\n",
    "    inv_lgt = 1 - (1+exp_lgt) ** -1\n",
    "    return inv_lgt.dot(A_lgt)-A_lgt.T.dot(b_lgt)-lam_lgt*x\n",
    "#\n",
    "def lgt_hess(x):\n",
    "    #####\n",
    "    # TODO: complete the Hessian\n",
    "    #####\n",
    "    D = np.diag(np.exp(A_lgt.dot(x))/(1+np.exp(A_lgt.dot(x))))\n",
    "    return A_lgt.T.dot(D).dot(A_lgt)-lam_lgt*np.eye(x.size)\n"
   ]
  },
  {
   "cell_type": "code",
   "execution_count": 98,
   "metadata": {},
   "outputs": [],
   "source": [
    "#==GRADED==#\n",
    "# No need to change anything in this cell.\n",
    "x_test = 3*np.ones(n_lgt)\n",
    "# We test the values of these functions at a sample point (3, 3, ..., 3)\n",
    "lgt_func_test = lgt_func(x_test)\n",
    "lgt_grad_test = lgt_grad(x_test)\n",
    "lgt_hess_test = lgt_hess(x_test)"
   ]
  },
  {
   "cell_type": "code",
   "execution_count": null,
   "metadata": {},
   "outputs": [],
   "source": []
  },
  {
   "cell_type": "code",
   "execution_count": 100,
   "metadata": {},
   "outputs": [],
   "source": [
    "# uniform step size for gradient descent or should we use line search?\n",
    "#####\n",
    "# TODO: if there is a uniform stepsize, set up step_size_lgt = \n",
    "# otherwise set use_line_search=True\n",
    "step_size_lgt=0.1\n",
    "#####"
   ]
  },
  {
   "cell_type": "markdown",
   "metadata": {},
   "source": [
    "### Apply gradient descent solver"
   ]
  },
  {
   "cell_type": "code",
   "execution_count": 101,
   "metadata": {},
   "outputs": [],
   "source": [
    "x0_lgt_gd = np.zeros(n_lgt)\n",
    "#==GRADED==#\n",
    "# No need to change anything in this cell.\n",
    "x_lgt_gd, obj_his_lgt_gd, err_his_lgt_gd, exit_flag_lgt_gd = \\\n",
    "    optimizeWithGD(x0_lgt_gd, lgt_func, lgt_grad,step_size_lgt)"
   ]
  },
  {
   "cell_type": "code",
   "execution_count": 102,
   "metadata": {},
   "outputs": [
    {
     "data": {
      "text/plain": [
       "Text(0.5, 0.98, 'Gradient Descent on Logistic Regression')"
      ]
     },
     "execution_count": 102,
     "metadata": {},
     "output_type": "execute_result"
    },
    {
     "data": {
      "image/png": "[encoded data removed]",
      "text/plain": [
       "<Figure size 864x360 with 2 Axes>"
      ]
     },
     "metadata": {
      "needs_background": "light"
     },
     "output_type": "display_data"
    }
   ],
   "source": [
    "# plot result\n",
    "fig, ax = plt.subplots(1, 2, figsize=(12,5))\n",
    "ax[0].plot(obj_his_lgt_gd)\n",
    "ax[0].set_title('function value')\n",
    "ax[1].semilogy(err_his_lgt_gd)\n",
    "ax[1].set_title('norm of the gradient')\n",
    "fig.suptitle('Gradient Descent on Logistic Regression')"
   ]
  },
  {
   "cell_type": "markdown",
   "metadata": {},
   "source": [
    "### Apply Newton's solver"
   ]
  },
  {
   "cell_type": "code",
   "execution_count": 90,
   "metadata": {},
   "outputs": [
    {
     "name": "stdout",
     "output_type": "stream",
     "text": [
      "Newtons Method reach maximum number of iteration.\n"
     ]
    }
   ],
   "source": [
    "x0_lgt_nt = np.zeros(n_lgt)\n",
    "#==GRADED==#\n",
    "# No need to change anything in this cell.\n",
    "x_lgt_nt, obj_his_lgt_nt, err_his_lgt_nt, exit_flag_lgt_nt = \\\n",
    "    optimizeWithNT(x0_lgt_nt, lgt_func, lgt_grad, lgt_hess)"
   ]
  },
  {
   "cell_type": "code",
   "execution_count": 91,
   "metadata": {},
   "outputs": [
    {
     "data": {
      "text/plain": [
       "Text(0.5, 0.98, \"Newton's Method on Logistic Regression\")"
      ]
     },
     "execution_count": 91,
     "metadata": {},
     "output_type": "execute_result"
    },
    {
     "data": {
      "image/png": "[encoded data removed]",
      "text/plain": [
       "<Figure size 864x360 with 2 Axes>"
      ]
     },
     "metadata": {
      "needs_background": "light"
     },
     "output_type": "display_data"
    }
   ],
   "source": [
    "# plot result\n",
    "fig, ax = plt.subplots(1, 2, figsize=(12,5))\n",
    "ax[0].plot(obj_his_lgt_nt)\n",
    "ax[0].set_title('function value')\n",
    "ax[1].semilogy(err_his_lgt_nt)\n",
    "ax[1].set_title('norm of the gradient')\n",
    "fig.suptitle('Newton\\'s Method on Logistic Regression')"
   ]
  },
  {
   "cell_type": "markdown",
   "metadata": {},
   "source": [
    "## Poisson Regression\n",
    "\n",
    "Recall the Poisson regression model\n",
    "$$\n",
    "f(x)=\\sum_{i=1}^m\\left[\\exp(\\langle a_i,x\\rangle)-b_i\\langle a_i,x\\rangle\\right]+\\frac{\\lambda}{2}\\|x\\|^2\n",
    "$$\n",
    "\n",
    "Calculate the gradient and Hessian of this function and define them below using the given data."
   ]
  },
  {
   "cell_type": "code",
   "execution_count": 105,
   "metadata": {},
   "outputs": [],
   "source": [
    "# fix a random seed\n",
    "np.random.seed(seed)\n",
    "# set the dimensions and create some data\n",
    "m_psn = 500\n",
    "n_psn = 50\n",
    "A_psn = 0.3*np.random.randn(m_psn, n_psn)\n",
    "x_psn = np.random.randn(n_psn)\n",
    "b_psn = samplePSN(x_psn, A_psn)\n",
    "lam_psn = 0.1"
   ]
  },
  {
   "cell_type": "markdown",
   "metadata": {},
   "source": [
    "### Define functions"
   ]
  },
  {
   "cell_type": "code",
   "execution_count": 112,
   "metadata": {},
   "outputs": [],
   "source": [
    "# define function, gradient and Hessian\n",
    "def psn_func(x):\n",
    "    #####\n",
    "    # TODO: complete the function\n",
    "    #####\n",
    "    Ax = A_psn.dot(x)\n",
    "    exp_psn = np.exp(Ax)\n",
    "    norm = (lam_psn/2)*sum(x**2)\n",
    "    return sum(exp_psn)-b_psn.dot(Ax)+norm\n",
    "#\n",
    "def psn_grad(x):\n",
    "    #####\n",
    "    # TODO: complete the gradient\n",
    "    #####\n",
    "    Ax = A_psn.dot(x)\n",
    "    exp_psn = np.exp(Ax)\n",
    "    return exp_psn.dot(A_psn)+lam_psn*x\n",
    "#\n",
    "def psn_hess(x):\n",
    "    #####\n",
    "    # TODO: complete the Hessian\n",
    "    #####\n",
    "    Ax = A_psn.dot(x)\n",
    "    exp_psn = np.exp(Ax)\n",
    "    D = np.diag(exp_psn)\n",
    "    return A_psn.T.dot(D).dot(A_psn)"
   ]
  },
  {
   "cell_type": "code",
   "execution_count": 113,
   "metadata": {},
   "outputs": [],
   "source": [
    "#==GRADED==#\n",
    "# No need to change anything in this cell.\n",
    "x_test = 2*np.ones(n_psn)\n",
    "psn_func_test = psn_func(x_test)\n",
    "psn_grad_test = psn_grad(x_test)\n",
    "psn_hess_test = psn_hess(x_test)"
   ]
  },
  {
   "cell_type": "code",
   "execution_count": null,
   "metadata": {},
   "outputs": [],
   "source": [
    "# uniform step size for gradient descent or should we use line search?\n",
    "#####\n",
    "# TODO: if there is a uniform stepsize, set up step_size_lgt = \n",
    "# otherwise set use_line_search=True\n",
    "#####\n",
    "# no uniform stepsize so using line search"
   ]
  },
  {
   "cell_type": "markdown",
   "metadata": {},
   "source": [
    "### Apply gradient descent solver"
   ]
  },
  {
   "cell_type": "code",
   "execution_count": 114,
   "metadata": {},
   "outputs": [
    {
     "name": "stdout",
     "output_type": "stream",
     "text": [
      "Line search: step size too small.\n",
      "Gradient descent line search fail.\n"
     ]
    }
   ],
   "source": [
    "x0_psn_gd = np.zeros(n_lgt)\n",
    "#==GRADED==#\n",
    "# No need to change anything in this cell.\n",
    "x_psn_gd, obj_his_psn_gd, err_his_psn_gd, exit_flag_psn_gd = \\\n",
    "    optimizeWithGD(x0_psn_gd, psn_func, psn_grad, None, use_line_search=True)"
   ]
  },
  {
   "cell_type": "code",
   "execution_count": 115,
   "metadata": {},
   "outputs": [
    {
     "data": {
      "text/plain": [
       "Text(0.5, 0.98, 'Gradient Descent on Poisson Regression')"
      ]
     },
     "execution_count": 115,
     "metadata": {},
     "output_type": "execute_result"
    },
    {
     "data": {
      "image/png": "[encoded data removed]",
      "text/plain": [
       "<Figure size 864x360 with 2 Axes>"
      ]
     },
     "metadata": {
      "needs_background": "light"
     },
     "output_type": "display_data"
    }
   ],
   "source": [
    "# plot result\n",
    "fig, ax = plt.subplots(1, 2, figsize=(12,5))\n",
    "ax[0].plot(obj_his_psn_gd)\n",
    "ax[0].set_title('function value')\n",
    "ax[1].semilogy(err_his_psn_gd)\n",
    "ax[1].set_title('norm of the gradient')\n",
    "fig.suptitle('Gradient Descent on Poisson Regression')"
   ]
  },
  {
   "cell_type": "markdown",
   "metadata": {},
   "source": [
    "### Apply Newton's solver"
   ]
  },
  {
   "cell_type": "code",
   "execution_count": 116,
   "metadata": {},
   "outputs": [],
   "source": [
    "x0_psn_nt = np.zeros(n_lgt)\n",
    "#==GRADED==#\n",
    "# No need to change anything in this cell.\n",
    "x_psn_nt, obj_his_psn_nt, err_his_psn_nt, exit_flag_psn_nt = \\\n",
    "    optimizeWithNT(x0_psn_nt, psn_func, psn_grad, psn_hess)"
   ]
  },
  {
   "cell_type": "code",
   "execution_count": 117,
   "metadata": {},
   "outputs": [
    {
     "data": {
      "text/plain": [
       "Text(0.5, 0.98, \"Newton's Method on Poisson Regression\")"
      ]
     },
     "execution_count": 117,
     "metadata": {},
     "output_type": "execute_result"
    },
    {
     "data": {
      "image/png": "[encoded data removed]",
      "text/plain": [
       "<Figure size 864x360 with 2 Axes>"
      ]
     },
     "metadata": {
      "needs_background": "light"
     },
     "output_type": "display_data"
    }
   ],
   "source": [
    "# plot result\n",
    "fig, ax = plt.subplots(1, 2, figsize=(12,5))\n",
    "ax[0].plot(obj_his_psn_nt)\n",
    "ax[0].set_title('function value')\n",
    "ax[1].semilogy(err_his_psn_nt)\n",
    "ax[1].set_title('norm of the gradient')\n",
    "fig.suptitle('Newton\\'s Method on Poisson Regression')"
   ]
  },
  {
   "cell_type": "code",
   "execution_count": null,
   "metadata": {},
   "outputs": [],
   "source": []
  }
 ],
 "metadata": {
  "kernelspec": {
   "display_name": "Python 3",
   "language": "python",
   "name": "python3"
  },
  "language_info": {
   "codemirror_mode": {
    "name": "ipython",
    "version": 3
   },
   "file_extension": ".py",
   "mimetype": "text/x-python",
   "name": "python",
   "nbconvert_exporter": "python",
   "pygments_lexer": "ipython3",
   "version": "3.8.0"
  }
 },
 "nbformat": 4,
 "nbformat_minor": 2
}
